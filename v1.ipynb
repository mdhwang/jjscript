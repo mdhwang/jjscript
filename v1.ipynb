{
 "cells": [
  {
   "cell_type": "code",
   "execution_count": null,
   "metadata": {},
   "outputs": [],
   "source": [
    "import numpy as np\n",
    "import re"
   ]
  },
  {
   "cell_type": "code",
   "execution_count": 11,
   "metadata": {},
   "outputs": [],
   "source": [
    "f = open(\"sample_report.txt\", \"r\")\n",
    "data = f.read()"
   ]
  },
  {
   "cell_type": "code",
   "execution_count": 276,
   "metadata": {},
   "outputs": [],
   "source": [
    "def tol(dim):\n",
    "    mu, sigma = 0, 0.001\n",
    "    s = np.random.normal(mu, sigma, 1)\n",
    "    updated = round((dim + s[0]),4)\n",
    "    return updated"
   ]
  },
  {
   "cell_type": "code",
   "execution_count": 277,
   "metadata": {},
   "outputs": [],
   "source": [
    "locs = [m.start() for m in re.finditer('THEO', data)]"
   ]
  },
  {
   "cell_type": "code",
   "execution_count": 278,
   "metadata": {},
   "outputs": [
    {
     "data": {
      "text/plain": [
       "31"
      ]
     },
     "execution_count": 278,
     "metadata": {},
     "output_type": "execute_result"
    }
   ],
   "source": [
    "len(locs)"
   ]
  },
  {
   "cell_type": "code",
   "execution_count": 281,
   "metadata": {},
   "outputs": [
    {
     "data": {
      "text/plain": [
       "'THEO/<-1.3078,2.0762,-1.1969>,'"
      ]
     },
     "execution_count": 281,
     "metadata": {},
     "output_type": "execute_result"
    }
   ],
   "source": [
    "data[locs[0]:locs[0]+30]"
   ]
  },
  {
   "cell_type": "code",
   "execution_count": 285,
   "metadata": {},
   "outputs": [
    {
     "name": "stdout",
     "output_type": "stream",
     "text": [
      "___OLD___\n",
      "-1.3078 2.0762 -1.1969\n",
      "___NEW___\n",
      "-1.3085 2.0747 -1.1956\n",
      "<-1.3085,2.0747,-1.1956>\n",
      "\n",
      "___OLD___\n",
      "-1.3078 3.0471 -1.6348\n",
      "___NEW___\n",
      "-1.3081 3.0467 -1.6325\n",
      "<-1.3081,3.0467,-1.6325>\n",
      "\n",
      "___OLD___\n",
      "-1.3078 -2.9096 -1.0976\n",
      "___NEW___\n",
      "-1.3084 -2.9102 -1.0973\n",
      "<-1.3084,-2.9102,-1.0973>\n",
      "\n",
      "___OLD___\n",
      "1.1191 -1.6565 -2.5917\n",
      "___NEW___\n",
      "1.1187 -1.6563 -2.5938\n",
      "<1.1187,-1.6563,-2.5938>\n",
      "\n",
      "___OLD___\n",
      "2.8229 1.0777 -2.7083\n",
      "___NEW___\n",
      "2.8217 1.0764 -2.7102\n",
      "<2.8217,1.0764,-2.7102>\n",
      "\n",
      "___OLD___\n",
      "3.0219 -1.3291 -2.6428\n",
      "___NEW___\n",
      "3.0222 -1.3295 -2.643\n",
      "<3.0222,-1.3295,-2.643>\n",
      "\n",
      "___OLD___\n",
      "-0.4673 3.6529 -2.9387\n",
      "___NEW___\n",
      "-0.4662 3.6521 -2.9401\n",
      "<-0.4662,3.6521,-2.9401>\n",
      "\n",
      "___OLD___\n",
      "-1.0338 0.6025 -0.4088\n",
      "___NEW___\n",
      "-1.0325 0.6027 -0.4089\n",
      "<-1.0325,0.6027,-0.4089>\n",
      "\n",
      "___OLD___\n",
      "-0.8979 0.3625 -0.5987\n",
      "___NEW___\n",
      "-0.8979 0.3614 -0.5993\n",
      "<-0.8979,0.3614,-0.5993>\n",
      "\n",
      "___OLD___\n",
      "-0.9636 0.0546 -0.3617\n",
      "___NEW___\n",
      "-0.9633 0.0534 -0.3604\n",
      "<-0.9633,0.0534,-0.3604>\n",
      "\n",
      "___OLD___\n",
      "-1.0466 0.6142 -0.1296\n",
      "___NEW___\n",
      "-1.0456 0.6148 -0.1291\n",
      "<-1.0456,0.6148,-0.1291>\n",
      "\n",
      "___OLD___\n",
      "-0.8965 0.3518 -0.2818\n",
      "___NEW___\n",
      "-0.8955 0.3527 -0.2823\n",
      "<-0.8955,0.3527,-0.2823>\n",
      "\n",
      "___OLD___\n",
      "-1.0066 0.0022 -0.1467\n",
      "___NEW___\n",
      "-1.0067 0.002 -0.1468\n",
      "<-1.0067,0.002,-0.1468>\n",
      "\n",
      "___OLD___\n",
      "-0.9509 0.5915 -0.7617\n",
      "___NEW___\n",
      "-0.9531 0.5916 -0.7632\n",
      "<-0.9531,0.5916,-0.7632>\n",
      "\n",
      "___OLD___\n",
      "-0.8266 0.3472 -0.7625\n",
      "___NEW___\n",
      "-0.826 0.347 -0.7614\n",
      "<-0.826,0.347,-0.7614>\n",
      "\n",
      "___OLD___\n",
      "-0.9674 -0.0689 -0.7617\n",
      "___NEW___\n",
      "-0.9682 -0.0678 -0.7629\n",
      "<-0.9682,-0.0678,-0.7629>\n",
      "\n",
      "___OLD___\n",
      "-1.0831 0.7267 -1.1159\n",
      "___NEW___\n",
      "-1.084 0.7245 -1.1163\n",
      "<-1.084,0.7245,-1.1163>\n",
      "\n",
      "___OLD___\n",
      "-0.9928 0.6664 -1.4711\n",
      "___NEW___\n",
      "-0.9935 0.6678 -1.4717\n",
      "<-0.9935,0.6678,-1.4717>\n",
      "\n",
      "___OLD___\n",
      "-0.8192 0.3411 -1.3695\n",
      "___NEW___\n",
      "-0.818 0.3414 -1.3689\n",
      "<-0.818,0.3414,-1.3689>\n",
      "\n",
      "___OLD___\n",
      "-1.0011 -0.0966 -1.0882\n",
      "___NEW___\n",
      "-1.0013 -0.0948 -1.088\n",
      "<-1.0013,-0.0948,-1.088>\n",
      "\n",
      "___OLD___\n",
      "-0.9816 -0.0784 -1.4335\n",
      "___NEW___\n",
      "-0.9804 -0.0776 -1.4336\n",
      "<-0.9804,-0.0776,-1.4336>\n",
      "\n",
      "___OLD___\n",
      "-0.8211 0.2207 -1.1574\n",
      "___NEW___\n",
      "-0.8238 0.2233 -1.1583\n",
      "<-0.8238,0.2233,-1.1583>\n",
      "\n",
      "___OLD___\n",
      "0.3561 2.0128 -2.4036\n",
      "___NEW___\n",
      "0.3562 2.0125 -2.4034\n",
      "<0.3562,2.0125,-2.4034>\n",
      "\n",
      "___OLD___\n",
      "1.0176 1.5784 -2.6066\n",
      "___NEW___\n",
      "1.0187 1.5766 -2.6076\n",
      "<1.0187,1.5766,-2.6076>\n",
      "\n",
      "___OLD___\n",
      "1.1194 0.8281 -2.5427\n",
      "___NEW___\n",
      "1.1205 0.8288 -2.542\n",
      "<1.1205,0.8288,-2.542>\n",
      "\n",
      "___OLD___\n",
      "0.5377 0.0318 -2.4479\n",
      "___NEW___\n",
      "0.5365 0.0317 -2.4488\n",
      "<0.5365,0.0317,-2.4488>\n",
      "\n",
      "___OLD___\n",
      "0.0723 0.4568 -2.1708\n",
      "___NEW___\n",
      "0.0725 0.4575 -2.1714\n",
      "<0.0725,0.4575,-2.1714>\n",
      "\n",
      "___OLD___\n",
      "-0.5752 0.0991 -2.1263\n",
      "___NEW___\n",
      "-0.5749 0.1006 -2.1249\n",
      "<-0.5749,0.1006,-2.1249>\n",
      "\n",
      "___OLD___\n",
      "-0.6967 1.7508 -2.913\n",
      "___NEW___\n",
      "-0.6981 1.7516 -2.9137\n",
      "<-0.6981,1.7516,-2.9137>\n",
      "\n",
      "___OLD___\n",
      "0.0866 1.1189 -2.7071\n",
      "___NEW___\n",
      "0.0865 1.1186 -2.7066\n",
      "<0.0865,1.1186,-2.7066>\n",
      "\n",
      "___OLD___\n",
      "-0.7968 0.8443 -2.4692\n",
      "___NEW___\n",
      "-0.7986 0.844 -2.471\n",
      "<-0.7986,0.844,-2.471>\n",
      "\n"
     ]
    }
   ],
   "source": [
    "for each in locs:\n",
    "    point = data[each:each+30]\n",
    "    coords = point.split('<')[1].split('>')[0]\n",
    "    \n",
    "    x = coords.split(',')[0]\n",
    "    y = coords.split(',')[1]\n",
    "    z = coords.split(',')[2]\n",
    "    print(\"___OLD___\")\n",
    "    print(x,y,z)\n",
    "    print(\"___NEW___\")\n",
    "    x1 = tol(float(x))\n",
    "    y1 = tol(float(y))\n",
    "    z1 = tol(float(z))\n",
    "    updated = '<' + str(x1) + ',' + str(y1) + ',' + str(z1) + '>'\n",
    "    print(updated)\n",
    "    print('')\n",
    "             "
   ]
  },
  {
   "cell_type": "code",
   "execution_count": 30,
   "metadata": {},
   "outputs": [],
   "source": [
    "import random"
   ]
  },
  {
   "cell_type": "code",
   "execution_count": 43,
   "metadata": {},
   "outputs": [
    {
     "data": {
      "text/plain": [
       "0.0012"
      ]
     },
     "execution_count": 43,
     "metadata": {},
     "output_type": "execute_result"
    }
   ],
   "source": [
    "round(random.randrange(-1500,1500)*0.000001,4)"
   ]
  },
  {
   "cell_type": "code",
   "execution_count": 44,
   "metadata": {},
   "outputs": [],
   "source": [
    "import numpy as np"
   ]
  },
  {
   "cell_type": "code",
   "execution_count": 184,
   "metadata": {},
   "outputs": [
    {
     "data": {
      "text/plain": [
       "0.0002"
      ]
     },
     "execution_count": 184,
     "metadata": {},
     "output_type": "execute_result"
    }
   ],
   "source": [
    "mu, sigma = 0, 0.00075\n",
    "s = np.random.normal(mu, sigma, 1)\n",
    "round(s[0],4)"
   ]
  },
  {
   "cell_type": "code",
   "execution_count": 10,
   "metadata": {},
   "outputs": [],
   "source": [
    "with open(\"sample.txt\", \"a\") as a_file:\n",
    "    a_file.write(\"\\n\")\n",
    "    a_file.write(a)"
   ]
  },
  {
   "cell_type": "code",
   "execution_count": 270,
   "metadata": {},
   "outputs": [],
   "source": []
  },
  {
   "cell_type": "code",
   "execution_count": 271,
   "metadata": {
    "scrolled": true
   },
   "outputs": [
    {
     "data": {
      "text/plain": [
       "0.2214"
      ]
     },
     "execution_count": 271,
     "metadata": {},
     "output_type": "execute_result"
    }
   ],
   "source": [
    "tol(0.222)"
   ]
  },
  {
   "cell_type": "code",
   "execution_count": null,
   "metadata": {},
   "outputs": [],
   "source": []
  },
  {
   "cell_type": "code",
   "execution_count": null,
   "metadata": {},
   "outputs": [],
   "source": []
  },
  {
   "cell_type": "code",
   "execution_count": null,
   "metadata": {},
   "outputs": [],
   "source": []
  }
 ],
 "metadata": {
  "kernelspec": {
   "display_name": "Python 3",
   "language": "python",
   "name": "python3"
  },
  "language_info": {
   "codemirror_mode": {
    "name": "ipython",
    "version": 3
   },
   "file_extension": ".py",
   "mimetype": "text/x-python",
   "name": "python",
   "nbconvert_exporter": "python",
   "pygments_lexer": "ipython3",
   "version": "3.7.3"
  }
 },
 "nbformat": 4,
 "nbformat_minor": 2
}
